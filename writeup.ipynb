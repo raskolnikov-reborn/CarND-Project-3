{
 "cells": [
  {
   "cell_type": "markdown",
   "metadata": {},
   "source": [
    "# Behavior Cloning Project\n",
    "The goals / steps of this project are the following:\n",
    "* Use the simulator to collect data of good driving behavior\n",
    "* Build, a convolution neural network in Keras that predicts steering angles from images\n",
    "* Train and validate the model with a training and validation set\n",
    "* Test that the model successfully drives around track one without leaving the road\n",
    "* Summarize the results with a written report"
   ]
  },
  {
   "cell_type": "markdown",
   "metadata": {},
   "source": [
    "## Project Resources\n",
    "The following resources were provided apriori\n",
    "* Simulator to generate and test performance of the model\n",
    "* drive.py file to test the model record frames\n",
    "* video.py file to convert images to mp4 file\n",
    "* Template for writeup"
   ]
  },
  {
   "cell_type": "markdown",
   "metadata": {},
   "source": [
    "![Model Visualization](./writeup_helpers/modelVisualization.png \"Model Visualization\")\n",
    "** Model Architecture **\n",
    "The nvidia model described here(https://images.nvidia.com/content/tegra/automotive/images/2016/solutions/pdf/end-to-end-dl-using-px.pdf) was used. I tried to use a different model but was not able to consistently improve its performance"
   ]
  },
  {
   "cell_type": "markdown",
   "metadata": {},
   "source": [
    "## Data Collection\n",
    "The data was collected by driving normally on Track 1. Some recovery behaviors were also recorded. Approximately 50000 images were recorded. Car was not driven counterclockwise. Recovery behaviours were also not recorded\n",
    "![Sample Image](./writeup_helpers/sample_image.png \"Sample\")"
   ]
  },
  {
   "cell_type": "markdown",
   "metadata": {},
   "source": [
    "## Data augmentation\n",
    "### Brightness Scaling\n",
    "Images were converted into HSV format and the Value channel was additively scaled to add more variation to the data. I clipped the value channel to 128 to prevent brightness artifacts while converting back to RGB.\n",
    "![Sample Image](./writeup_helpers/sample_image.png \"Sample\")\n",
    "![Random Brightness](./writeup_helpers/scaled_sample.png \"Brightness\")"
   ]
  },
  {
   "cell_type": "markdown",
   "metadata": {},
   "source": [
    "### Random Translation\n",
    "A random translation was added to the input images Steering values were modified in proportion to the translation\n",
    "![Sample Image](./writeup_helpers/untranslated.png \"Sample\")\n",
    "![Random translation](./writeup_helpers/translated.png \"Translation\")"
   ]
  },
  {
   "cell_type": "markdown",
   "metadata": {},
   "source": [
    "### Cropping\n",
    "50 pixels from the top and 20 pixels from the bottom were cropped. This was done using keras.Cropping 2D in the model itself\n",
    "\n",
    "![Sample Image](./writeup_helpers/raw.png \"Sample\")\n",
    "![Cropping](./writeup_helpers/cropped.png \"Cropping\")"
   ]
  },
  {
   "cell_type": "markdown",
   "metadata": {},
   "source": [
    "### Submission details\n",
    "My project includes the following files:\n",
    "* model.py containing the script to create and train the model\n",
    "* drive.py for driving the car in autonomous mode\n",
    "* model.h5 containing a trained convolution neural network \n",
    "* writeup.md or writeup_report.pdf summarizing the results\n",
    "* video.mp4 and graphics_generalization.mp4 showcasing model driving on track 1\n"
   ]
  },
  {
   "cell_type": "markdown",
   "metadata": {},
   "source": [
    "### How to test\n",
    "\n",
    "Using the Udacity provided simulator and my drive.py file, the car can be driven autonomously around the track by executing \n",
    "```sh\n",
    "python drive.py model.h5\n",
    "```"
   ]
  },
  {
   "cell_type": "markdown",
   "metadata": {},
   "source": [
    "### Description of Code\n",
    "The model.py file contains the code for training and saving the convolution neural network. The file shows the pipeline I used for training and validating the model, and it contains comments to explain how the code works.\n",
    "\n",
    "#### How to use code\n",
    "```` sh\n",
    "python model.py\n",
    "````\n",
    "* The code expects at least one of two folders relative to its own path ../../data_aug or ../../data_raw \n",
    "* If the 'augment' variable in the code is set to false, Data will be loaded from raw and a model will be trained from scratch\n",
    "* If the 'augment' variable in the code is set to true the code will load the last saved model and augmentation data in data_aug and model will be fine tuned.\n",
    "* All epochs are saved and tensorboard logs are also created.\n",
    "\n"
   ]
  },
  {
   "cell_type": "markdown",
   "metadata": {},
   "source": [
    "### Model Details\n",
    "Dropout layers were added to all the dense layers of the stanard nvidia model for reducing overfitting\n",
    "The model used an adam optimizer, so the learning rate was not tuned manually\n",
    "![Model Details](./writeup_helpers/model_details.png \"Model\")"
   ]
  },
  {
   "cell_type": "markdown",
   "metadata": {},
   "source": [
    "### Augmentation Strategy\n",
    "Model was trained on initial set of center driving and was able to negotiate the first few curves on track 1. The specific failure turns and points were recorded into the data_aug folder. Saved model was loaded and fine tuned till it was able to cross failure points. The process was repeated till the trained model could drive around the whole track without failure"
   ]
  },
  {
   "cell_type": "markdown",
   "metadata": {},
   "source": [
    "### Model Choice and Justification\n",
    "I used the nvidia model because of its proven performance on Real world data. I eventually want to port this model onto a real self driving car and thought that this should be a good starting point. I began by only adding dropout to the last dense layer. I found that the performance on curves improved with adding dropouts to the dense layers but stayed the same or degraded by adding the dropouts to conv layers.\n",
    "\n",
    "After adding the dropout layers, training loss was higher than validation loss. This meant that the model was now underfitting. Practical deployment however showed that underfit models showed superior performance on the track as opposed to overfit ones\n",
    "\n",
    "![Loss](./writeup_helpers/loss.png \"Loss\")"
   ]
  },
  {
   "cell_type": "markdown",
   "metadata": {},
   "source": [
    "### Future work\n",
    "\n",
    "* Try out more models\n",
    "* Figure out strategies for track 2\n",
    "* Implement a custom layer to resize the images in the model itself\n"
   ]
  },
  {
   "cell_type": "code",
   "execution_count": null,
   "metadata": {
    "collapsed": true
   },
   "outputs": [],
   "source": []
  }
 ],
 "metadata": {
  "kernelspec": {
   "display_name": "Python 3",
   "language": "python",
   "name": "python3"
  },
  "language_info": {
   "codemirror_mode": {
    "name": "ipython",
    "version": 3
   },
   "file_extension": ".py",
   "mimetype": "text/x-python",
   "name": "python",
   "nbconvert_exporter": "python",
   "pygments_lexer": "ipython3",
   "version": "3.5.3"
  }
 },
 "nbformat": 4,
 "nbformat_minor": 2
}
